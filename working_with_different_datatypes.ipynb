{
 "metadata": {
  "language_info": {
   "codemirror_mode": {
    "name": "ipython",
    "version": 3
   },
   "file_extension": ".py",
   "mimetype": "text/x-python",
   "name": "python",
   "nbconvert_exporter": "python",
   "pygments_lexer": "ipython3",
   "version": "3.6.9-final"
  },
  "orig_nbformat": 2,
  "kernelspec": {
   "name": "python_defaultSpec_1599753639819",
   "display_name": "Python 3.6.9 64-bit ('sparkit': venv)"
  }
 },
 "nbformat": 4,
 "nbformat_minor": 2,
 "cells": [
  {
   "cell_type": "code",
   "execution_count": 2,
   "metadata": {},
   "outputs": [],
   "source": [
    "from pyspark.sql import SparkSession\n",
    "from pyspark.sql.functions import lit,col,instr,expr,pow,round,bround,corr,monotonically_increasing_id,initcap,lower,lpad,rpad,regexp_extract,regexp_replace,translate,locate,current_date,current_timestamp,date_add,date_sub,coalesce\n",
    "import os"
   ]
  },
  {
   "cell_type": "code",
   "execution_count": 3,
   "metadata": {},
   "outputs": [],
   "source": [
    "spark = SparkSession.builder.appName('df2').getOrCreate()"
   ]
  },
  {
   "cell_type": "code",
   "execution_count": 4,
   "metadata": {},
   "outputs": [],
   "source": [
    "datapath = '/home/amogh/Documents/spark_certification/Spark-The-Definitive-Guide-master/data/'"
   ]
  },
  {
   "cell_type": "code",
   "execution_count": 5,
   "metadata": {},
   "outputs": [],
   "source": [
    "df = spark.read.\\\n",
    "    option('header',True).\\\n",
    "        option('inferschema',True).\\\n",
    "            csv(datapath+'retail-data/by-day/2010-12-01.csv').sample(fraction=0.1)"
   ]
  },
  {
   "cell_type": "code",
   "execution_count": 6,
   "metadata": {
    "tags": []
   },
   "outputs": [
    {
     "output_type": "stream",
     "name": "stdout",
     "text": "root\n |-- InvoiceNo: string (nullable = true)\n |-- StockCode: string (nullable = true)\n |-- Description: string (nullable = true)\n |-- Quantity: integer (nullable = true)\n |-- InvoiceDate: timestamp (nullable = true)\n |-- UnitPrice: double (nullable = true)\n |-- CustomerID: double (nullable = true)\n |-- Country: string (nullable = true)\n\n"
    }
   ],
   "source": [
    "df.printSchema()\n",
    "df.createOrReplaceTempView(\"dfTable\")"
   ]
  },
  {
   "cell_type": "code",
   "execution_count": 7,
   "metadata": {},
   "outputs": [],
   "source": [
    "# convert to sparktype"
   ]
  },
  {
   "cell_type": "code",
   "execution_count": 9,
   "metadata": {},
   "outputs": [
    {
     "output_type": "execute_result",
     "data": {
      "text/plain": "DataFrame[5: int, five: string]"
     },
     "metadata": {},
     "execution_count": 9
    }
   ],
   "source": [
    "df.select(lit(5),lit(\"five\"))"
   ]
  },
  {
   "cell_type": "code",
   "execution_count": 11,
   "metadata": {},
   "outputs": [],
   "source": [
    "# booleans"
   ]
  },
  {
   "cell_type": "code",
   "execution_count": 16,
   "metadata": {
    "tags": []
   },
   "outputs": [
    {
     "output_type": "stream",
     "name": "stdout",
     "text": "+---------+---------------------------------+\n|InvoiceNo|Description                      |\n+---------+---------------------------------+\n|536365   |GLASS STAR FROSTED T-LIGHT HOLDER|\n+---------+---------------------------------+\n\n"
    }
   ],
   "source": [
    "df.where( col(\"InvoiceNo\") == (536365) ).\\\n",
    "    select(\"InvoiceNo\", \"Description\").show(5,False)"
   ]
  },
  {
   "cell_type": "code",
   "execution_count": 23,
   "metadata": {
    "tags": []
   },
   "outputs": [
    {
     "output_type": "stream",
     "name": "stdout",
     "text": "+---------+---------+--------------+--------+-------------------+---------+----------+--------------+\n|InvoiceNo|StockCode|   Description|Quantity|        InvoiceDate|UnitPrice|CustomerID|       Country|\n+---------+---------+--------------+--------+-------------------+---------+----------+--------------+\n|   536592|      DOT|DOTCOM POSTAGE|       1|2010-12-01 17:06:00|   607.49|      null|United Kingdom|\n+---------+---------+--------------+--------+-------------------+---------+----------+--------------+\n\n"
    }
   ],
   "source": [
    "pricefilter = col(\"UnitPrice\") > 600\n",
    "decfilter = instr(col('Description'),\"POSTAGE\") >= 1\n",
    "\n",
    "df.where(col('StockCode').isin(\"DOT\") ).where((pricefilter |decfilter  ) ).show(3)"
   ]
  },
  {
   "cell_type": "code",
   "execution_count": 24,
   "metadata": {
    "tags": []
   },
   "outputs": [],
   "source": [
    "# we can also use it as boolean column"
   ]
  },
  {
   "cell_type": "code",
   "execution_count": 25,
   "metadata": {
    "tags": []
   },
   "outputs": [
    {
     "output_type": "stream",
     "name": "stdout",
     "text": "+---------+---------+--------------+--------+-------------------+---------+----------+--------------+-----------+\n|InvoiceNo|StockCode|   Description|Quantity|        InvoiceDate|UnitPrice|CustomerID|       Country|isExpensive|\n+---------+---------+--------------+--------+-------------------+---------+----------+--------------+-----------+\n|   536592|      DOT|DOTCOM POSTAGE|       1|2010-12-01 17:06:00|   607.49|      null|United Kingdom|       true|\n+---------+---------+--------------+--------+-------------------+---------+----------+--------------+-----------+\n\n"
    }
   ],
   "source": [
    "df.withColumn(\"isExpensive\",(pricefilter |decfilter  ) ).where('isExpensive').show()"
   ]
  },
  {
   "cell_type": "code",
   "execution_count": 27,
   "metadata": {
    "tags": []
   },
   "outputs": [
    {
     "output_type": "stream",
     "name": "stdout",
     "text": "+--------------+---------+\n|   Description|UnitPrice|\n+--------------+---------+\n|DOTCOM POSTAGE|   607.49|\n+--------------+---------+\n\n"
    }
   ],
   "source": [
    "df.withColumn(\"isExpensive\", expr(\"NOT UnitPrice <= 250\"))\\\n",
    ".where(\"isExpensive\")\\\n",
    ".select(\"Description\", \"UnitPrice\").show(5)"
   ]
  },
  {
   "cell_type": "code",
   "execution_count": 28,
   "metadata": {},
   "outputs": [],
   "source": [
    "# Numerical column"
   ]
  },
  {
   "cell_type": "code",
   "execution_count": 29,
   "metadata": {},
   "outputs": [],
   "source": [
    "fabricatedQuantity = pow(col(\"Quantity\") * col(\"UnitPrice\"),2) + 5"
   ]
  },
  {
   "cell_type": "code",
   "execution_count": 31,
   "metadata": {
    "tags": []
   },
   "outputs": [
    {
     "output_type": "stream",
     "name": "stdout",
     "text": "+----------+------------------+\n|CustomerId|      realQuantity|\n+----------+------------------+\n|   17850.0|            655.25|\n|   13047.0|103.00999999999998|\n|   13047.0|401.00999999999993|\n|   17850.0| 887.0900000000001|\n|   17850.0|            103.01|\n|   17850.0|          418.7156|\n|   17850.0|45.449600000000004|\n|   17850.0|45.449600000000004|\n|   17850.0|163.76000000000005|\n|   17850.0|239.08999999999997|\n|   14688.0|             77.25|\n|   14688.0|            277.25|\n|   14688.0|            385.25|\n|   15311.0|         9560.0625|\n|   15311.0|           13.7025|\n|   16098.0| 397.0399999999999|\n|   16098.0|             446.0|\n|   16029.0| 537939.2335999999|\n|   16029.0|          291605.0|\n|   16250.0|323.62250000000006|\n+----------+------------------+\nonly showing top 20 rows\n\n"
    }
   ],
   "source": [
    "df.select(expr(\"CustomerId\"),fabricatedQuantity.alias(\"realQuantity\")).show()"
   ]
  },
  {
   "cell_type": "code",
   "execution_count": 32,
   "metadata": {},
   "outputs": [],
   "source": [
    "# we can use round"
   ]
  },
  {
   "cell_type": "code",
   "execution_count": 36,
   "metadata": {
    "tags": []
   },
   "outputs": [
    {
     "output_type": "stream",
     "name": "stdout",
     "text": "+----------+------------+\n|CustomerId|realQuantity|\n+----------+------------+\n|   17850.0|      655.25|\n|   13047.0|      103.01|\n|   13047.0|      401.01|\n|   17850.0|      887.09|\n|   17850.0|      103.01|\n|   17850.0|      418.72|\n|   17850.0|       45.45|\n|   17850.0|       45.45|\n|   17850.0|      163.76|\n|   17850.0|      239.09|\n|   14688.0|       77.25|\n|   14688.0|      277.25|\n|   14688.0|      385.25|\n|   15311.0|     9560.06|\n|   15311.0|        13.7|\n|   16098.0|      397.04|\n|   16098.0|       446.0|\n|   16029.0|   537939.23|\n|   16029.0|    291605.0|\n|   16250.0|      323.62|\n+----------+------------+\nonly showing top 20 rows\n\n"
    }
   ],
   "source": [
    "df.selectExpr(\"CustomerId\", \"round(power((Quantity * UnitPrice),2.0) + 5,2) as realQuantity\").show()"
   ]
  },
  {
   "cell_type": "code",
   "execution_count": 39,
   "metadata": {
    "tags": []
   },
   "outputs": [
    {
     "output_type": "stream",
     "name": "stdout",
     "text": "+-------------+--------------+\n|round(2.5, 0)|bround(2.5, 0)|\n+-------------+--------------+\n|          3.0|           2.0|\n|          3.0|           2.0|\n+-------------+--------------+\nonly showing top 2 rows\n\n"
    }
   ],
   "source": [
    "# using round \n",
    "\n",
    "df.select(round(lit(\"2.5\")), bround(lit(\"2.5\"))).show(2)"
   ]
  },
  {
   "cell_type": "code",
   "execution_count": 40,
   "metadata": {},
   "outputs": [],
   "source": [
    "# working with stats"
   ]
  },
  {
   "cell_type": "code",
   "execution_count": 41,
   "metadata": {},
   "outputs": [
    {
     "output_type": "execute_result",
     "data": {
      "text/plain": "-0.022578777066752327"
     },
     "metadata": {},
     "execution_count": 41
    }
   ],
   "source": [
    "df.stat.corr(\"Quantity\", \"UnitPrice\")"
   ]
  },
  {
   "cell_type": "code",
   "execution_count": 43,
   "metadata": {
    "tags": []
   },
   "outputs": [
    {
     "output_type": "stream",
     "name": "stdout",
     "text": "+-------------------------+\n|corr(Quantity, UnitPrice)|\n+-------------------------+\n|     -0.02257877706675...|\n+-------------------------+\n\n"
    }
   ],
   "source": [
    "df.select(corr(\"Quantity\", \"UnitPrice\")).show()"
   ]
  },
  {
   "cell_type": "code",
   "execution_count": 44,
   "metadata": {},
   "outputs": [
    {
     "output_type": "execute_result",
     "data": {
      "text/plain": "DataFrame[summary: string, InvoiceNo: string, StockCode: string, Description: string, Quantity: string, UnitPrice: string, CustomerID: string, Country: string]"
     },
     "metadata": {},
     "execution_count": 44
    }
   ],
   "source": [
    "df.describe()"
   ]
  },
  {
   "cell_type": "code",
   "execution_count": 47,
   "metadata": {},
   "outputs": [
    {
     "output_type": "execute_result",
     "data": {
      "text/plain": "[2.51]"
     },
     "metadata": {},
     "execution_count": 47
    }
   ],
   "source": [
    "# approxquantile\n",
    "\n",
    "df.stat.approxQuantile(\"UnitPrice\",[0.5],0)\n"
   ]
  },
  {
   "cell_type": "code",
   "execution_count": 48,
   "metadata": {
    "tags": []
   },
   "outputs": [
    {
     "output_type": "stream",
     "name": "stdout",
     "text": "+------------------+---+---+---+---+---+---+---+---+---+---+---+---+---+---+---+---+---+---+---+---+---+---+---+\n|StockCode_Quantity| -7|  1| 10| 12| 16| 18|192|  2| 23| 24| 27|  3| 32| 36|  4| 40|432| 48|  5|  6|  7|  8| 96|\n+------------------+---+---+---+---+---+---+---+---+---+---+---+---+---+---+---+---+---+---+---+---+---+---+---+\n|             22219|  0|  0|  0|  1|  0|  0|  0|  0|  0|  0|  0|  0|  0|  0|  0|  0|  0|  0|  0|  0|  0|  0|  0|\n|             72817|  0|  0|  0|  1|  0|  0|  0|  0|  0|  0|  0|  0|  0|  0|  0|  0|  0|  0|  0|  0|  0|  0|  0|\n|             22988|  0|  0|  0|  1|  0|  0|  0|  0|  0|  0|  0|  0|  0|  0|  0|  0|  0|  0|  0|  0|  1|  0|  0|\n|             22379|  0|  1|  1|  0|  0|  0|  0|  0|  0|  0|  0|  0|  0|  0|  0|  0|  0|  0|  0|  0|  0|  0|  0|\n|             22585|  0|  0|  0|  0|  0|  0|  0|  0|  0|  0|  0|  0|  0|  0|  0|  0|  0|  0|  1|  0|  0|  0|  0|\n|            85114C|  0|  0|  0|  0|  0|  0|  0|  1|  0|  0|  0|  0|  0|  0|  0|  0|  0|  0|  0|  0|  0|  0|  0|\n|               DOT|  0|  1|  0|  0|  0|  0|  0|  0|  0|  0|  0|  0|  0|  0|  0|  0|  0|  0|  0|  0|  0|  0|  0|\n|             22314|  0|  0|  0|  0|  0|  0|  0|  0|  0|  0|  0|  0|  0|  0|  0|  0|  0|  0|  0|  1|  0|  0|  0|\n|             22905|  0|  0|  0|  0|  0|  0|  0|  1|  0|  0|  0|  0|  0|  0|  0|  0|  0|  0|  0|  0|  0|  0|  0|\n|             22188|  0|  0|  0|  0|  0|  0|  0|  0|  0|  0|  0|  0|  0|  0|  0|  0|  0|  0|  0|  0|  0|  1|  0|\n|             82482|  0|  0|  0|  0|  0|  0|  0|  0|  0|  0|  0|  0|  0|  0|  0|  0|  0|  0|  0|  1|  0|  0|  0|\n|            84970S|  0|  1|  0|  0|  0|  0|  0|  0|  0|  0|  0|  0|  0|  0|  0|  0|  0|  0|  0|  0|  0|  0|  0|\n|             21818|  0|  0|  0|  0|  0|  0|  0|  0|  0|  0|  0|  0|  0|  1|  0|  0|  0|  0|  0|  0|  0|  0|  0|\n|             22477|  0|  0|  0|  0|  0|  0|  0|  1|  0|  0|  0|  0|  0|  0|  0|  0|  0|  0|  0|  0|  0|  0|  0|\n|             21363|  0|  1|  0|  0|  0|  0|  0|  0|  0|  0|  0|  0|  0|  0|  0|  0|  0|  0|  0|  0|  0|  0|  0|\n|             21288|  0|  1|  0|  0|  0|  0|  0|  0|  0|  0|  0|  0|  0|  0|  0|  0|  0|  0|  0|  0|  0|  0|  0|\n|             22393|  0|  1|  0|  0|  0|  0|  0|  0|  0|  0|  0|  0|  0|  0|  0|  0|  0|  0|  0|  0|  0|  0|  0|\n|             22335|  0|  0|  0|  0|  0|  0|  0|  0|  0|  0|  0|  0|  0|  0|  1|  0|  0|  0|  0|  0|  0|  0|  0|\n|             21156|  0|  0|  0|  0|  0|  0|  0|  0|  0|  0|  0|  1|  0|  0|  0|  0|  0|  0|  0|  0|  0|  0|  0|\n|             22589|  0|  0|  0|  0|  0|  0|  0|  0|  0|  0|  0|  0|  0|  0|  0|  0|  0|  0|  0|  1|  0|  0|  0|\n+------------------+---+---+---+---+---+---+---+---+---+---+---+---+---+---+---+---+---+---+---+---+---+---+---+\nonly showing top 20 rows\n\n"
    }
   ],
   "source": [
    "df.stat.crosstab(\"StockCode\", \"Quantity\").show()"
   ]
  },
  {
   "cell_type": "code",
   "execution_count": 49,
   "metadata": {
    "tags": []
   },
   "outputs": [
    {
     "output_type": "stream",
     "name": "stdout",
     "text": "+--------------------+--------------------+\n| StockCode_freqItems|  Quantity_freqItems|\n+--------------------+--------------------+\n|[22620, 84029G, 7...|[23, 32, 8, 2, -7...|\n+--------------------+--------------------+\n\n"
    }
   ],
   "source": [
    "df.stat.freqItems([\"StockCode\", \"Quantity\"]).show()"
   ]
  },
  {
   "cell_type": "code",
   "execution_count": 52,
   "metadata": {
    "tags": []
   },
   "outputs": [
    {
     "output_type": "stream",
     "name": "stdout",
     "text": "+-----------------------------+\n|monotonically_increasing_id()|\n+-----------------------------+\n|                            0|\n|                            1|\n|                            2|\n|                            3|\n|                            4|\n|                            5|\n|                            6|\n|                            7|\n|                            8|\n|                            9|\n|                           10|\n|                           11|\n|                           12|\n|                           13|\n|                           14|\n|                           15|\n|                           16|\n|                           17|\n|                           18|\n|                           19|\n+-----------------------------+\nonly showing top 20 rows\n\n"
    }
   ],
   "source": [
    "df.select(monotonically_increasing_id()).show()"
   ]
  },
  {
   "cell_type": "code",
   "execution_count": 53,
   "metadata": {},
   "outputs": [],
   "source": [
    "# String functions"
   ]
  },
  {
   "cell_type": "code",
   "execution_count": 55,
   "metadata": {
    "tags": []
   },
   "outputs": [
    {
     "output_type": "stream",
     "name": "stdout",
     "text": "+---------------------------------+\n|initcap(Description)             |\n+---------------------------------+\n|Glass Star Frosted T-light Holder|\n|Ivory Knitted Mug Cosy           |\n+---------------------------------+\nonly showing top 2 rows\n\n"
    }
   ],
   "source": [
    "df.select(initcap(col(\"Description\"))).show(2,False)"
   ]
  },
  {
   "cell_type": "code",
   "execution_count": 57,
   "metadata": {
    "tags": []
   },
   "outputs": [
    {
     "output_type": "stream",
     "name": "stdout",
     "text": "+---------------------------------+\n|lower(Description)               |\n+---------------------------------+\n|glass star frosted t-light holder|\n|ivory knitted mug cosy           |\n+---------------------------------+\nonly showing top 2 rows\n\n"
    }
   ],
   "source": [
    "df.select(lower(col(\"Description\"))).show(2,False)\n"
   ]
  },
  {
   "cell_type": "code",
   "execution_count": 83,
   "metadata": {
    "tags": []
   },
   "outputs": [
    {
     "output_type": "stream",
     "name": "stdout",
     "text": "+-----------------+\n|lpad(HELLO, 3,  )|\n+-----------------+\n|              HEL|\n|              HEL|\n|              HEL|\n|              HEL|\n+-----------------+\nonly showing top 4 rows\n\n"
    }
   ],
   "source": [
    "df.select(lpad(lit(\"HELLO\"),3,\" \")).show(4)"
   ]
  },
  {
   "cell_type": "code",
   "execution_count": 80,
   "metadata": {
    "tags": []
   },
   "outputs": [
    {
     "output_type": "stream",
     "name": "stdout",
     "text": "+------------------+\n|rpad(HELLO, 10, l)|\n+------------------+\n|        HELLOlllll|\n|        HELLOlllll|\n|        HELLOlllll|\n|        HELLOlllll|\n+------------------+\nonly showing top 4 rows\n\n"
    }
   ],
   "source": [
    "df.select(rpad(lit(\"HELLO\"),10,\"l\")).show(4)"
   ]
  },
  {
   "cell_type": "code",
   "execution_count": 3,
   "metadata": {},
   "outputs": [],
   "source": [
    "# Regular expressions"
   ]
  },
  {
   "cell_type": "code",
   "execution_count": 21,
   "metadata": {},
   "outputs": [],
   "source": [
    "regex_string = \"BLACK|WHITE|RED|GREEN|BLUE\""
   ]
  },
  {
   "cell_type": "code",
   "execution_count": 22,
   "metadata": {
    "tags": []
   },
   "outputs": [
    {
     "output_type": "stream",
     "name": "stdout",
     "text": "+--------------------+--------------------+\n|         color_clean|         Description|\n+--------------------+--------------------+\n| COLOR METAL LANTERN| WHITE METAL LANTERN|\n|KNITTED UNION FLA...|KNITTED UNION FLA...|\n+--------------------+--------------------+\nonly showing top 2 rows\n\n"
    }
   ],
   "source": [
    "df.select(regexp_replace(col(\"Description\"), regex_string, \"COLOR\").alias(\"color_clean\"),\n",
    "col(\"Description\")).show(2)"
   ]
  },
  {
   "cell_type": "code",
   "execution_count": 12,
   "metadata": {
    "tags": []
   },
   "outputs": [
    {
     "output_type": "stream",
     "name": "stdout",
     "text": "root\n |-- InvoiceNo: string (nullable = true)\n |-- StockCode: string (nullable = true)\n |-- Description: string (nullable = true)\n |-- Quantity: integer (nullable = true)\n |-- InvoiceDate: timestamp (nullable = true)\n |-- UnitPrice: double (nullable = true)\n |-- CustomerID: double (nullable = true)\n |-- Country: string (nullable = true)\n\n"
    }
   ],
   "source": [
    "df.printSchema()"
   ]
  },
  {
   "cell_type": "code",
   "execution_count": 24,
   "metadata": {
    "tags": []
   },
   "outputs": [
    {
     "output_type": "stream",
     "name": "stdout",
     "text": "+----------------------------------+--------------------+\n|translate(Description, LEET, 1337)|         Description|\n+----------------------------------+--------------------+\n|               WHI73 M37A1 1AN73RN| WHITE METAL LANTERN|\n|              KNI773D UNION F1A...|KNITTED UNION FLA...|\n|              BA7H BUI1DING B1O...|BATH BUILDING BLO...|\n|              PAP3R CHAIN KI7 5...|PAPER CHAIN KIT 5...|\n|              3DWARDIAN PARASO1...|EDWARDIAN PARASOL...|\n|              WOOD 2 DRAW3R CAB...|WOOD 2 DRAWER CAB...|\n|              R3D WOO11Y HO77I3...|RED WOOLLY HOTTIE...|\n|               WHI73 M37A1 1AN73RN| WHITE METAL LANTERN|\n|              KNI773D UNION F1A...|KNITTED UNION FLA...|\n|              1UNCH BAG R3D R37...|LUNCH BAG RED RET...|\n|              1UNCH BOX WI7H CU...|LUNCH BOX WITH CU...|\n|              PACK OF 72 R37ROS...|PACK OF 72 RETROS...|\n|               GIR1Y PINK 7OO1 S37| GIRLY PINK TOOL SET|\n|              JUMBO SHOPP3R VIN...|JUMBO SHOPPER VIN...|\n|              WHI73 SPO7 R3D C3...|WHITE SPOT RED CE...|\n|              C13AR DRAW3R KNOB...|CLEAR DRAWER KNOB...|\n|              Y311OW BR3AKFAS7 ...|YELLOW BREAKFAST ...|\n|              73A 7IM3 D3S 73A ...|TEA TIME DES TEA ...|\n|              VIN7AG3 SNAK3S & ...|VINTAGE SNAKES & ...|\n|              3 7I3R CAK3 7IN G...|3 TIER CAKE TIN G...|\n+----------------------------------+--------------------+\nonly showing top 20 rows\n\n"
    }
   ],
   "source": [
    "df.select(translate(col(\"Description\"),'LEET','1337'),col(\"Description\")).show()"
   ]
  },
  {
   "cell_type": "code",
   "execution_count": 25,
   "metadata": {},
   "outputs": [],
   "source": [
    "# regex extract"
   ]
  },
  {
   "cell_type": "code",
   "execution_count": 26,
   "metadata": {},
   "outputs": [],
   "source": [
    "extract_str = \"(BLACK|WHITE|RED|GREEN|BLUE)\""
   ]
  },
  {
   "cell_type": "code",
   "execution_count": 27,
   "metadata": {
    "tags": []
   },
   "outputs": [
    {
     "output_type": "stream",
     "name": "stdout",
     "text": "+-----------+--------------------+\n|color_clean|         Description|\n+-----------+--------------------+\n|      WHITE| WHITE METAL LANTERN|\n|           |KNITTED UNION FLA...|\n+-----------+--------------------+\nonly showing top 2 rows\n\n"
    }
   ],
   "source": [
    "df.select(\n",
    "regexp_extract(col(\"Description\"), extract_str, 1).alias(\"color_clean\"),\n",
    "col(\"Description\")).show(2)"
   ]
  },
  {
   "cell_type": "code",
   "execution_count": 28,
   "metadata": {},
   "outputs": [],
   "source": [
    "# we may want to check if value exists"
   ]
  },
  {
   "cell_type": "code",
   "execution_count": 29,
   "metadata": {},
   "outputs": [],
   "source": [
    "containes_white = instr(col('Description'),'WHITE') >= 1"
   ]
  },
  {
   "cell_type": "code",
   "execution_count": null,
   "metadata": {},
   "outputs": [],
   "source": [
    "df.withColumn()"
   ]
  },
  {
   "cell_type": "code",
   "execution_count": 30,
   "metadata": {
    "tags": []
   },
   "outputs": [
    {
     "output_type": "stream",
     "name": "stdout",
     "text": "+----------------------------------+\n|Description                       |\n+----------------------------------+\n|WHITE METAL LANTERN               |\n|WOOD 2 DRAWER CABINET WHITE FINISH|\n|RED WOOLLY HOTTIE WHITE HEART.    |\n+----------------------------------+\nonly showing top 3 rows\n\n"
    }
   ],
   "source": [
    "df.withColumn(\"hasSimpleColor\", containes_white)\\\n",
    ".where(\"hasSimpleColor\")\\\n",
    ".select(\"Description\").show(3, False)"
   ]
  },
  {
   "cell_type": "code",
   "execution_count": 37,
   "metadata": {},
   "outputs": [],
   "source": [
    "simple_colors = [\"black\", \"white\", \"red\", \"green\", \"blue\"]"
   ]
  },
  {
   "cell_type": "code",
   "execution_count": 47,
   "metadata": {},
   "outputs": [
    {
     "output_type": "execute_result",
     "data": {
      "text/plain": "['black', 'white', 'red', 'green', 'blue']"
     },
     "metadata": {},
     "execution_count": 47
    }
   ],
   "source": [
    "[c for c in simple_colors]"
   ]
  },
  {
   "cell_type": "code",
   "execution_count": 51,
   "metadata": {},
   "outputs": [],
   "source": [
    "def color_locator(column, color_string):\n",
    "    return locate(color_string.upper(), column)\\\n",
    "    .cast(\"boolean\")\\\n",
    "    .alias(\"is_\" + color_string)"
   ]
  },
  {
   "cell_type": "code",
   "execution_count": 58,
   "metadata": {
    "tags": []
   },
   "outputs": [
    {
     "output_type": "stream",
     "name": "stdout",
     "text": "+----------------------------------+\n|Description                       |\n+----------------------------------+\n|WHITE METAL LANTERN               |\n|EDWARDIAN PARASOL RED             |\n|WOOD 2 DRAWER CABINET WHITE FINISH|\n+----------------------------------+\nonly showing top 3 rows\n\n"
    }
   ],
   "source": [
    "selectedColumns = [color_locator(column = df.Description,color_string = c) for c in simple_colors ]\n",
    "selectedColumns.append(expr(\"*\"))\n",
    "df.select(*selectedColumns).where(expr(\"is_white OR is_red\"))\\\n",
    ".select(\"Description\").show(3, False)\n"
   ]
  },
  {
   "cell_type": "code",
   "execution_count": 57,
   "metadata": {},
   "outputs": [
    {
     "output_type": "execute_result",
     "data": {
      "text/plain": "[Column<b'CAST(locate(BLACK, Description, 1) AS BOOLEAN) AS `is_black`'>,\n Column<b'CAST(locate(WHITE, Description, 1) AS BOOLEAN) AS `is_white`'>,\n Column<b'CAST(locate(RED, Description, 1) AS BOOLEAN) AS `is_red`'>,\n Column<b'CAST(locate(GREEN, Description, 1) AS BOOLEAN) AS `is_green`'>,\n Column<b'CAST(locate(BLUE, Description, 1) AS BOOLEAN) AS `is_blue`'>,\n Column<b'unresolvedstar()'>]"
     },
     "metadata": {},
     "execution_count": 57
    }
   ],
   "source": []
  },
  {
   "cell_type": "code",
   "execution_count": 66,
   "metadata": {},
   "outputs": [],
   "source": [
    "# UDFs \n",
    "\n",
    "def power1(number): \n",
    "    Double = number * number \n",
    "\n",
    "    return Double\n",
    "\n",
    "def power3(double_value):\n",
    "    return double_value ** 3\n",
    "    "
   ]
  },
  {
   "cell_type": "code",
   "execution_count": 67,
   "metadata": {},
   "outputs": [
    {
     "output_type": "execute_result",
     "data": {
      "text/plain": "8"
     },
     "metadata": {},
     "execution_count": 67
    }
   ],
   "source": [
    "power3(2)"
   ]
  },
  {
   "cell_type": "code",
   "execution_count": 75,
   "metadata": {},
   "outputs": [],
   "source": [
    "udf_add = spark.udf.register('app',power1)"
   ]
  },
  {
   "cell_type": "code",
   "execution_count": 72,
   "metadata": {
    "tags": []
   },
   "outputs": [
    {
     "output_type": "stream",
     "name": "stdout",
     "text": "+-------------+\n|app(Quantity)|\n+-------------+\n|           36|\n|           36|\n|            4|\n|           36|\n|            4|\n|           36|\n|           36|\n|           36|\n|           36|\n|           36|\n|          100|\n|          100|\n|          100|\n|          529|\n|            1|\n|          144|\n|          100|\n|        36864|\n|       186624|\n|            9|\n+-------------+\nonly showing top 20 rows\n\n"
    }
   ],
   "source": [
    "df.select(udf_add(\"Quantity\")).show()"
   ]
  },
  {
   "cell_type": "code",
   "execution_count": null,
   "metadata": {},
   "outputs": [],
   "source": []
  },
  {
   "cell_type": "code",
   "execution_count": 59,
   "metadata": {},
   "outputs": [],
   "source": [
    "# Datetime"
   ]
  },
  {
   "cell_type": "code",
   "execution_count": 6,
   "metadata": {},
   "outputs": [],
   "source": [
    "datedf = spark.range(10).\\\n",
    "    withColumn('today',current_date())\\\n",
    "        .withColumn('now',current_timestamp())"
   ]
  },
  {
   "cell_type": "code",
   "execution_count": 7,
   "metadata": {
    "tags": []
   },
   "outputs": [
    {
     "output_type": "stream",
     "name": "stdout",
     "text": "root\n |-- id: long (nullable = false)\n |-- today: date (nullable = false)\n |-- now: timestamp (nullable = false)\n\n"
    }
   ],
   "source": [
    "datedf.printSchema()"
   ]
  },
  {
   "cell_type": "code",
   "execution_count": 10,
   "metadata": {
    "tags": []
   },
   "outputs": [
    {
     "output_type": "stream",
     "name": "stdout",
     "text": "+------------------+\n|date_sub(today, 5)|\n+------------------+\n|        2020-09-05|\n|        2020-09-05|\n|        2020-09-05|\n|        2020-09-05|\n|        2020-09-05|\n|        2020-09-05|\n|        2020-09-05|\n|        2020-09-05|\n|        2020-09-05|\n|        2020-09-05|\n+------------------+\n\n"
    }
   ],
   "source": [
    "datedf.select(date_sub(col('today'),5)).show()"
   ]
  },
  {
   "cell_type": "code",
   "execution_count": 11,
   "metadata": {},
   "outputs": [],
   "source": [
    "from pyspark.sql.functions import datediff, months_between, to_date"
   ]
  },
  {
   "cell_type": "code",
   "execution_count": 15,
   "metadata": {
    "tags": []
   },
   "outputs": [
    {
     "output_type": "stream",
     "name": "stdout",
     "text": "+-------------------------+\n|datediff(week_ago, today)|\n+-------------------------+\n|                       -7|\n|                       -7|\n|                       -7|\n|                       -7|\n|                       -7|\n|                       -7|\n|                       -7|\n|                       -7|\n|                       -7|\n|                       -7|\n+-------------------------+\n\n"
    }
   ],
   "source": [
    "datedf.withColumn('week_ago',date_sub('today',7)).select(datediff(col('week_ago'),col('today'))).show()"
   ]
  },
  {
   "cell_type": "code",
   "execution_count": 16,
   "metadata": {},
   "outputs": [],
   "source": [
    "# date format\n",
    "date_format = \"yyyy-dd-MM\""
   ]
  },
  {
   "cell_type": "code",
   "execution_count": 19,
   "metadata": {
    "tags": []
   },
   "outputs": [
    {
     "output_type": "stream",
     "name": "stdout",
     "text": "+----------+----------+\n|      date|     date2|\n+----------+----------+\n|2017-11-12|2017-12-20|\n+----------+----------+\n\n"
    }
   ],
   "source": [
    "spark.range(1).select(to_date(lit(\"2017-12-11\"),date_format).alias(\"date\"),to_date(lit(\"2017-20-12\"), date_format).alias(\"date2\")).show()"
   ]
  },
  {
   "cell_type": "code",
   "execution_count": null,
   "metadata": {},
   "outputs": [],
   "source": [
    "# Null values"
   ]
  },
  {
   "cell_type": "code",
   "execution_count": 21,
   "metadata": {
    "tags": []
   },
   "outputs": [
    {
     "output_type": "stream",
     "name": "stdout",
     "text": "+---------------------------------+\n|coalesce(Description, CustomerId)|\n+---------------------------------+\n|             HAND WARMER UNION...|\n|             ASSORTED COLOUR B...|\n|             FELTCRAFT PRINCES...|\n|             ROUND SNACK BOXES...|\n|             HAND WARMER UNION...|\n|             WOOD S/3 CABINET ...|\n|             VICTORIAN SEWING ...|\n|             WOOD 2 DRAWER CAB...|\n|             HOT WATER BOTTLE ...|\n|             AIRLINE LOUNGE,ME...|\n|             CLEAR DRAWER KNOB...|\n|             FELT EGG COSY CHI...|\n|             YOU'RE CONFUSING ...|\n|             YELLOW BREAKFAST ...|\n|             HANGING MEDINA LA...|\n|             ENAMEL FLOWER JUG...|\n|             FAIRY TALE COTTAG...|\n|             ROSE CARAVAN DOOR...|\n|             JAM JAR WITH PINK...|\n|             ROSE COTTAGE KEEP...|\n+---------------------------------+\nonly showing top 20 rows\n\n"
    }
   ],
   "source": [
    "df.select(coalesce(col(\"Description\"), col(\"CustomerId\"))).show()"
   ]
  },
  {
   "cell_type": "code",
   "execution_count": 22,
   "metadata": {},
   "outputs": [
    {
     "output_type": "execute_result",
     "data": {
      "text/plain": "DataFrame[InvoiceNo: string, StockCode: string, Description: string, Quantity: int, InvoiceDate: timestamp, UnitPrice: double, CustomerID: double, Country: string]"
     },
     "metadata": {},
     "execution_count": 22
    }
   ],
   "source": [
    "df.na.drop()"
   ]
  },
  {
   "cell_type": "code",
   "execution_count": 23,
   "metadata": {},
   "outputs": [
    {
     "output_type": "execute_result",
     "data": {
      "text/plain": "DataFrame[InvoiceNo: string, StockCode: string, Description: string, Quantity: int, InvoiceDate: timestamp, UnitPrice: double, CustomerID: double, Country: string]"
     },
     "metadata": {},
     "execution_count": 23
    }
   ],
   "source": [
    "fill_cols_vals = {\"StockCode\": 5, \"Description\" : \"No Value\"}\n",
    "df.na.fill(fill_cols_vals)"
   ]
  },
  {
   "cell_type": "code",
   "execution_count": 24,
   "metadata": {},
   "outputs": [
    {
     "output_type": "execute_result",
     "data": {
      "text/plain": "DataFrame[InvoiceNo: string, StockCode: string, Description: string, Quantity: int, InvoiceDate: timestamp, UnitPrice: double, CustomerID: double, Country: string]"
     },
     "metadata": {},
     "execution_count": 24
    }
   ],
   "source": [
    "df.na.replace([\"\"],[\"unknown\"],\"Description\")"
   ]
  },
  {
   "cell_type": "code",
   "execution_count": 25,
   "metadata": {},
   "outputs": [],
   "source": [
    "# working with complext data types"
   ]
  },
  {
   "cell_type": "code",
   "execution_count": 26,
   "metadata": {},
   "outputs": [],
   "source": [
    "from pyspark.sql.functions import struct\n",
    "complexDF = df.select(struct(\"Description\", \"InvoiceNo\").alias(\"complex\"))"
   ]
  },
  {
   "cell_type": "code",
   "execution_count": 29,
   "metadata": {
    "tags": []
   },
   "outputs": [
    {
     "output_type": "stream",
     "name": "stdout",
     "text": "+--------------------+\n|         Description|\n+--------------------+\n|HAND WARMER UNION...|\n|ASSORTED COLOUR B...|\n|FELTCRAFT PRINCES...|\n|ROUND SNACK BOXES...|\n|HAND WARMER UNION...|\n|WOOD S/3 CABINET ...|\n|VICTORIAN SEWING ...|\n|WOOD 2 DRAWER CAB...|\n|HOT WATER BOTTLE ...|\n|AIRLINE LOUNGE,ME...|\n|CLEAR DRAWER KNOB...|\n|FELT EGG COSY CHI...|\n|YOU'RE CONFUSING ...|\n|YELLOW BREAKFAST ...|\n|HANGING MEDINA LA...|\n|ENAMEL FLOWER JUG...|\n|FAIRY TALE COTTAG...|\n|ROSE CARAVAN DOOR...|\n|JAM JAR WITH PINK...|\n|ROSE COTTAGE KEEP...|\n+--------------------+\nonly showing top 20 rows\n\n"
    }
   ],
   "source": [
    "complexDF.select(\"complex.Description\").show()"
   ]
  },
  {
   "cell_type": "code",
   "execution_count": 7,
   "metadata": {
    "tags": []
   },
   "outputs": [
    {
     "output_type": "stream",
     "name": "stdout",
     "text": "+------------+\n|array_col[0]|\n+------------+\n|        HAND|\n|     POPPY'S|\n+------------+\nonly showing top 2 rows\n\n"
    }
   ],
   "source": [
    "from pyspark.sql.functions import split\n",
    "df.select(split(col('Description'),\" \").alias('array_col')).selectExpr(\"array_col[0]\").show(2)\n"
   ]
  },
  {
   "cell_type": "code",
   "execution_count": 9,
   "metadata": {
    "tags": []
   },
   "outputs": [
    {
     "output_type": "stream",
     "name": "stdout",
     "text": "+---------------------------+\n|size(split(Description,  ))|\n+---------------------------+\n|                          5|\n|                          3|\n+---------------------------+\nonly showing top 2 rows\n\n"
    }
   ],
   "source": [
    "from pyspark.sql.functions import size,array_contains\n",
    "df.select(size(split(col(\"Description\"), \" \"))).show(2)"
   ]
  },
  {
   "cell_type": "code",
   "execution_count": 10,
   "metadata": {},
   "outputs": [
    {
     "output_type": "execute_result",
     "data": {
      "text/plain": "DataFrame[array_contains(split(Description,  ), WHITE): boolean]"
     },
     "metadata": {},
     "execution_count": 10
    }
   ],
   "source": [
    "df.select(array_contains(split(col(\"Description\"), \" \"),'WHITE'))"
   ]
  },
  {
   "cell_type": "code",
   "execution_count": 12,
   "metadata": {
    "tags": []
   },
   "outputs": [
    {
     "output_type": "stream",
     "name": "stdout",
     "text": "+--------------------+---------+--------+\n|         Description|InvoiceNo|exploded|\n+--------------------+---------+--------+\n|HAND WARMER RED P...|   536366|    HAND|\n|HAND WARMER RED P...|   536366|  WARMER|\n+--------------------+---------+--------+\nonly showing top 2 rows\n\n"
    }
   ],
   "source": [
    "from pyspark.sql.functions import split, explode\n",
    "df.withColumn(\"splitted\", split(col(\"Description\"), \" \"))\\\n",
    ".withColumn(\"exploded\", explode(col(\"splitted\")))\\\n",
    ".select(\"Description\", \"InvoiceNo\", \"exploded\").show(2)"
   ]
  },
  {
   "cell_type": "code",
   "execution_count": 13,
   "metadata": {},
   "outputs": [],
   "source": [
    "# map"
   ]
  },
  {
   "cell_type": "code",
   "execution_count": 14,
   "metadata": {
    "tags": []
   },
   "outputs": [
    {
     "output_type": "stream",
     "name": "stdout",
     "text": "+--------------------+\n|         complex_map|\n+--------------------+\n|[HAND WARMER RED ...|\n|[POPPY'S PLAYHOUS...|\n+--------------------+\nonly showing top 2 rows\n\n"
    }
   ],
   "source": [
    "from pyspark.sql.functions import create_map\n",
    "df.select(create_map(col(\"Description\"), col(\"InvoiceNo\")).alias(\"complex_map\"))\\\n",
    ".show(2)"
   ]
  },
  {
   "cell_type": "code",
   "execution_count": 16,
   "metadata": {},
   "outputs": [],
   "source": [
    "# json"
   ]
  },
  {
   "cell_type": "code",
   "execution_count": 17,
   "metadata": {},
   "outputs": [],
   "source": [
    "jsonDF = spark.range(1).selectExpr(\"\"\"'{\"myJSONKey\" : {\"myJSONValue\" : [1, 2, 3]}}' as jsonString\"\"\")"
   ]
  },
  {
   "cell_type": "code",
   "execution_count": 21,
   "metadata": {
    "tags": []
   },
   "outputs": [
    {
     "output_type": "stream",
     "name": "stdout",
     "text": "+-------------------------------------------------------+--------------------+\n|get_json_object(jsonString, $.myJSONKey.myJSONValue[1])|                  c0|\n+-------------------------------------------------------+--------------------+\n|                                                      2|{\"myJSONValue\":[1...|\n+-------------------------------------------------------+--------------------+\n\n"
    }
   ],
   "source": [
    "from pyspark.sql.functions import get_json_object, json_tuple\n",
    "\n",
    "jsonDF.select(\n",
    "get_json_object(col(\"jsonString\"), \"$.myJSONKey.myJSONValue[1]\") ,\n",
    "json_tuple(col(\"jsonString\"), \"myJSONKey\")).show(2)"
   ]
  },
  {
   "cell_type": "code",
   "execution_count": 22,
   "metadata": {},
   "outputs": [],
   "source": [
    "# to_json and from_json"
   ]
  },
  {
   "cell_type": "code",
   "execution_count": null,
   "metadata": {},
   "outputs": [],
   "source": []
  }
 ]
}