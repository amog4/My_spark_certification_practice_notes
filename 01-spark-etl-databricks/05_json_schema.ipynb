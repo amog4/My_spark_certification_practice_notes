{
 "metadata": {
  "language_info": {
   "codemirror_mode": {
    "name": "ipython",
    "version": 3
   },
   "file_extension": ".py",
   "mimetype": "text/x-python",
   "name": "python",
   "nbconvert_exporter": "python",
   "pygments_lexer": "ipython3",
   "version": "3.6.9-final"
  },
  "orig_nbformat": 2,
  "kernelspec": {
   "name": "python_defaultSpec_1599564910950",
   "display_name": "Python 3.6.9 64-bit ('sparkit': venv)"
  }
 },
 "nbformat": 4,
 "nbformat_minor": 2,
 "cells": [
  {
   "cell_type": "code",
   "execution_count": 22,
   "metadata": {},
   "outputs": [],
   "source": [
    "from pyspark.sql import SparkSession\n",
    "from pyspark.sql.types import StructType,StructField,IntegerType,StringType,FloatType"
   ]
  },
  {
   "cell_type": "code",
   "execution_count": 2,
   "metadata": {},
   "outputs": [],
   "source": [
    "spark = SparkSession.builder.appName('schema').getOrCreate()"
   ]
  },
  {
   "cell_type": "code",
   "execution_count": 3,
   "metadata": {},
   "outputs": [],
   "source": [
    "data_path = '/home/amogh/Documents/spark_certification/Spark-The-Definitive-Guide-master/data/activity-data/'"
   ]
  },
  {
   "cell_type": "code",
   "execution_count": 4,
   "metadata": {},
   "outputs": [],
   "source": [
    "df = spark.read.format('json').load(data_path)"
   ]
  },
  {
   "cell_type": "code",
   "execution_count": 7,
   "metadata": {
    "tags": []
   },
   "outputs": [],
   "source": [
    "activityschema = df.schema"
   ]
  },
  {
   "cell_type": "code",
   "execution_count": 8,
   "metadata": {
    "tags": []
   },
   "outputs": [
    {
     "output_type": "stream",
     "name": "stdout",
     "text": "<class 'pyspark.sql.types.StructType'>\n"
    }
   ],
   "source": [
    "print(type(activityschema))"
   ]
  },
  {
   "cell_type": "code",
   "execution_count": 9,
   "metadata": {},
   "outputs": [
    {
     "output_type": "execute_result",
     "data": {
      "text/plain": "[StructField(Arrival_Time,LongType,true),\n StructField(Creation_Time,LongType,true),\n StructField(Device,StringType,true),\n StructField(Index,LongType,true),\n StructField(Model,StringType,true),\n StructField(User,StringType,true),\n StructField(gt,StringType,true),\n StructField(x,DoubleType,true),\n StructField(y,DoubleType,true),\n StructField(z,DoubleType,true)]"
     },
     "metadata": {},
     "execution_count": 9
    }
   ],
   "source": [
    "[filed for filed in activityschema]"
   ]
  },
  {
   "cell_type": "code",
   "execution_count": 10,
   "metadata": {},
   "outputs": [],
   "source": [
    "# structtype of structfield"
   ]
  },
  {
   "cell_type": "code",
   "execution_count": 34,
   "metadata": {},
   "outputs": [],
   "source": [
    "activityschema2 = StructType([\n",
    "\n",
    "StructField('Arrival_Time',IntegerType(),True),\n",
    "StructField('Creation_Time',IntegerType(),True),\n",
    "StructField('Device',StringType(),True),\n",
    "StructField('Index',IntegerType(),True),\n",
    "StructField('Model',StringType(),True),\n",
    "StructField('x',FloatType(),True),\n",
    "StructField('y',FloatType(),True),\n",
    "StructField('z',FloatType(),True),\n",
    "StructField('gt',StringType(),True),\n",
    "StructField('User',StringType(),True),\n",
    "\n",
    "\n",
    "\n",
    "])"
   ]
  },
  {
   "cell_type": "code",
   "execution_count": 35,
   "metadata": {},
   "outputs": [],
   "source": [
    "df_schema = spark.read.format('json').schema(activityschema2 ).load(data_path).sample(fraction=0.05)"
   ]
  },
  {
   "cell_type": "code",
   "execution_count": 36,
   "metadata": {
    "tags": []
   },
   "outputs": [
    {
     "output_type": "stream",
     "name": "stdout",
     "text": "root\n |-- Arrival_Time: integer (nullable = true)\n |-- Creation_Time: integer (nullable = true)\n |-- Device: string (nullable = true)\n |-- Index: integer (nullable = true)\n |-- Model: string (nullable = true)\n |-- x: float (nullable = true)\n |-- y: float (nullable = true)\n |-- z: float (nullable = true)\n |-- gt: string (nullable = true)\n |-- User: string (nullable = true)\n\n"
    }
   ],
   "source": [
    "df_schema.printSchema()"
   ]
  },
  {
   "cell_type": "code",
   "execution_count": null,
   "metadata": {},
   "outputs": [],
   "source": []
  }
 ]
}