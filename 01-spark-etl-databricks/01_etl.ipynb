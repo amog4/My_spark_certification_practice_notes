{
 "metadata": {
  "language_info": {
   "codemirror_mode": {
    "name": "ipython",
    "version": 3
   },
   "file_extension": ".py",
   "mimetype": "text/x-python",
   "name": "python",
   "nbconvert_exporter": "python",
   "pygments_lexer": "ipython3",
   "version": "3.6.9-final"
  },
  "orig_nbformat": 2,
  "kernelspec": {
   "name": "python_defaultSpec_1599464000613",
   "display_name": "Python 3.6.9 64-bit ('sparkit': venv)"
  }
 },
 "nbformat": 4,
 "nbformat_minor": 2,
 "cells": [
  {
   "cell_type": "code",
   "execution_count": 2,
   "metadata": {},
   "outputs": [],
   "source": [
    "import os \n",
    "from pyspark.sql import SparkSession\n",
    "from pyspark.sql.functions import col,from_utc_timestamp,hour,count,isnull"
   ]
  },
  {
   "cell_type": "code",
   "execution_count": 3,
   "metadata": {},
   "outputs": [],
   "source": [
    "path = '/home/amogh/Documents/vs_code_python/spark_itversity/spark_certification_notes/01-spark-etl-databricks/us_sec_gov_log_data/log20170630.csv'"
   ]
  },
  {
   "cell_type": "code",
   "execution_count": 4,
   "metadata": {},
   "outputs": [],
   "source": [
    "spark = SparkSession.builder.appName('spark_etl_databricks').getOrCreate()"
   ]
  },
  {
   "cell_type": "code",
   "execution_count": 5,
   "metadata": {},
   "outputs": [],
   "source": [
    "# using the sample \n",
    "logDF = spark.\\\n",
    "        read.\\\n",
    "        option('header','true').\\\n",
    "        csv(path).sample(withReplacement = False, fraction=0.3,seed=3)"
   ]
  },
  {
   "cell_type": "code",
   "execution_count": 29,
   "metadata": {
    "tags": []
   },
   "outputs": [
    {
     "output_type": "display_data",
     "data": {
      "text/plain": "DataFrame[ip: string, date: string, time: string, zone: string, cik: string, accession: string, extention: string, code: string, size: string, idx: string, norefer: string, noagent: string, find: string, crawler: string, browser: string]"
     },
     "metadata": {}
    }
   ],
   "source": [
    "display(logDF)"
   ]
  },
  {
   "cell_type": "code",
   "execution_count": 33,
   "metadata": {
    "tags": []
   },
   "outputs": [
    {
     "output_type": "execute_result",
     "data": {
      "text/plain": "[Row(ip='101.81.133.jja', date='2017-06-30', time='00:00:00', zone='0.0', cik='1608552.0', accession='0001047469-17-004337', extention='-index.htm', code='200.0', size='80251.0', idx='1.0', norefer='0.0', noagent='0.0', find='9.0', crawler='0.0', browser=None),\n Row(ip='107.23.85.jfd', date='2017-06-30', time='00:00:00', zone='0.0', cik='1136894.0', accession='0000905148-07-003827', extention='-index.htm', code='200.0', size='3021.0', idx='1.0', norefer='0.0', noagent='0.0', find='10.0', crawler='0.0', browser=None),\n Row(ip='107.23.85.jfd', date='2017-06-30', time='00:00:00', zone='0.0', cik='841535.0', accession='0000841535-10-000003', extention='-index.htm', code='200.0', size='2716.0', idx='1.0', norefer='0.0', noagent='0.0', find='10.0', crawler='0.0', browser=None)]"
     },
     "metadata": {},
     "execution_count": 33
    }
   ],
   "source": [
    "logDF.take(3)"
   ]
  },
  {
   "cell_type": "code",
   "execution_count": 34,
   "metadata": {
    "tags": []
   },
   "outputs": [
    {
     "output_type": "stream",
     "name": "stdout",
     "text": "+-----+\n| code|\n+-----+\n|200.0|\n|503.0|\n|404.0|\n| null|\n|  0.0|\n|400.0|\n|206.0|\n|429.0|\n|500.0|\n|403.0|\n|502.0|\n|301.0|\n|504.0|\n|304.0|\n+-----+\n\n"
    }
   ],
   "source": [
    "logDF.select('code').distinct().show()"
   ]
  },
  {
   "cell_type": "code",
   "execution_count": 35,
   "metadata": {},
   "outputs": [],
   "source": [
    "# Lets look at server side error code between - 500 & 600"
   ]
  },
  {
   "cell_type": "code",
   "execution_count": 43,
   "metadata": {},
   "outputs": [],
   "source": [
    "servererror_code_df = logDF.\\\n",
    "    filter((col(\"code\") >= 500) & (col(\"code\") < 600))\\\n",
    "        .select(\"date\",\"time\",\"extention\",\"code\") "
   ]
  },
  {
   "cell_type": "code",
   "execution_count": 44,
   "metadata": {},
   "outputs": [
    {
     "output_type": "display_data",
     "data": {
      "text/plain": "DataFrame[date: string, time: string, extention: string, code: string]"
     },
     "metadata": {}
    }
   ],
   "source": [
    "display(servererror_code_df)"
   ]
  },
  {
   "cell_type": "code",
   "execution_count": 45,
   "metadata": {},
   "outputs": [
    {
     "output_type": "execute_result",
     "data": {
      "text/plain": "[Row(date='2017-06-30', time='00:00:11', extention='-index.htm', code='503.0')]"
     },
     "metadata": {},
     "execution_count": 45
    }
   ],
   "source": [
    "servererror_code_df.take(1)"
   ]
  },
  {
   "cell_type": "code",
   "execution_count": 52,
   "metadata": {},
   "outputs": [],
   "source": [
    "# Data validation\n",
    "# one aspect of ETL job is to validate that the data is what you expect. That includes \n",
    "#   * The number of records\n",
    "#   * The expected fields present\n",
    "#   * No unexpected missing values "
   ]
  },
  {
   "cell_type": "code",
   "execution_count": null,
   "metadata": {},
   "outputs": [],
   "source": [
    "# Look at serverside error by hour "
   ]
  },
  {
   "cell_type": "code",
   "execution_count": 62,
   "metadata": {},
   "outputs": [],
   "source": [
    "servererror_perhour_df = servererror_code_df.select(hour(from_utc_timestamp('time','GMT')).alias('hour') ).\\\n",
    "                         groupBy(\"hour\").\\\n",
    "                         count().orderBy(\"hour\")"
   ]
  },
  {
   "cell_type": "code",
   "execution_count": 63,
   "metadata": {},
   "outputs": [
    {
     "output_type": "display_data",
     "data": {
      "text/plain": "DataFrame[hour: int, count: bigint]"
     },
     "metadata": {}
    }
   ],
   "source": [
    "display(servererror_perhour_df)"
   ]
  },
  {
   "cell_type": "code",
   "execution_count": 69,
   "metadata": {},
   "outputs": [],
   "source": [
    "servererror_code_df.repartition(1).\\\n",
    "    write.\\\n",
    "    mode(\"overwrite\").\\\n",
    "        parquet(\"/home/amogh/Documents/vs_code_python/spark_itversity/spark_certification_notes/01-spark-etl-databricks/us_sec_gov_log_data/serverside_error_log20170630.parquet\")"
   ]
  },
  {
   "cell_type": "code",
   "execution_count": 72,
   "metadata": {},
   "outputs": [],
   "source": [
    "#saving the file in parquet format (columnar formar )"
   ]
  },
  {
   "cell_type": "code",
   "execution_count": 65,
   "metadata": {
    "tags": []
   },
   "outputs": [
    {
     "output_type": "stream",
     "name": "stdout",
     "text": "+----+-----+\n|hour|count|\n+----+-----+\n|   0| 1956|\n|   1| 1920|\n|   2| 1813|\n|   3| 1962|\n|   4| 1957|\n|   5| 2060|\n|   6| 1957|\n|   7| 1936|\n|   8| 1996|\n|   9| 1966|\n|  10| 1931|\n|  11| 1973|\n|  12| 1733|\n|  13| 1904|\n|  14| 2055|\n|  15| 1960|\n|  16| 1977|\n|  17| 1976|\n|  18| 1943|\n|  19| 2003|\n|  20| 2008|\n|  21| 1992|\n|  22| 1792|\n|  23|   22|\n+----+-----+\n\n"
    }
   ],
   "source": [
    "servererror_perhour_df.show(24)"
   ]
  },
  {
   "cell_type": "code",
   "execution_count": 70,
   "metadata": {},
   "outputs": [],
   "source": [
    "# # count of ip address"
   ]
  },
  {
   "cell_type": "code",
   "execution_count": null,
   "metadata": {},
   "outputs": [],
   "source": []
  },
  {
   "cell_type": "code",
   "execution_count": 6,
   "metadata": {},
   "outputs": [],
   "source": [
    "ipcount = logDF.select('ip').\\\n",
    "    groupBy(\"ip\").count().orderBy(col('count').desc())"
   ]
  },
  {
   "cell_type": "code",
   "execution_count": 88,
   "metadata": {
    "tags": []
   },
   "outputs": [
    {
     "output_type": "stream",
     "name": "stdout",
     "text": "+---------------+------+\n|             ip| count|\n+---------------+------+\n| 109.145.75.gge|226596|\n|165.124.130.jhd|213192|\n| 38.105.116.iei|193443|\n|165.124.130.igj|190611|\n|  52.23.159.dgd|190483|\n| 54.162.220.aah|133406|\n| 117.91.230.gha|124162|\n|  108.91.91.hbc|117873|\n|180.119.118.baj|112997|\n|  96.127.52.gig|111572|\n|165.124.130.jdj|106432|\n|  23.20.108.ihh| 91046|\n|  149.56.12.jbf| 86488|\n|  13.90.101.dfh| 80983|\n|  65.254.10.fdf| 80557|\n|192.223.241.fcg| 78053|\n|  209.249.4.gjc| 74681|\n|180.119.116.cjb| 74313|\n|180.119.118.fib| 72516|\n|   78.137.2.bcj| 61102|\n+---------------+------+\nonly showing top 20 rows\n\n"
    }
   ],
   "source": [
    "ipcount.show()"
   ]
  },
  {
   "cell_type": "code",
   "execution_count": 7,
   "metadata": {},
   "outputs": [],
   "source": [
    "ipcount.write.mode('overwrite').parquet('/tmp/ipcount.parquet')"
   ]
  },
  {
   "cell_type": "code",
   "execution_count": 89,
   "metadata": {},
   "outputs": [],
   "source": [
    "ip1, count1 = ipcount.first()"
   ]
  },
  {
   "cell_type": "code",
   "execution_count": 108,
   "metadata": {},
   "outputs": [],
   "source": [
    "def dftest(ip,ipcount:int,ipvalue,ipcountvalue:int):\n",
    "\n",
    "    if (ip == ipvalue) and (ipcount ==  ipcountvalue):\n",
    "        print('pass')\n",
    "    else:\n",
    "        print('fail')"
   ]
  },
  {
   "cell_type": "code",
   "execution_count": 109,
   "metadata": {
    "tags": []
   },
   "outputs": [
    {
     "output_type": "stream",
     "name": "stdout",
     "text": "pass\n"
    }
   ],
   "source": [
    "dftest('109.145.75.gge',226596,'109.145.75.gge',226596)"
   ]
  },
  {
   "cell_type": "code",
   "execution_count": null,
   "metadata": {},
   "outputs": [],
   "source": []
  }
 ]
}