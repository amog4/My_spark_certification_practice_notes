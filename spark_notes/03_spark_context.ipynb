{
 "metadata": {
  "language_info": {
   "codemirror_mode": {
    "name": "ipython",
    "version": 3
   },
   "file_extension": ".py",
   "mimetype": "text/x-python",
   "name": "python",
   "nbconvert_exporter": "python",
   "pygments_lexer": "ipython3",
   "version": "3.6.9-final"
  },
  "orig_nbformat": 2,
  "kernelspec": {
   "name": "python_defaultSpec_1599316538577",
   "display_name": "Python 3.6.9 64-bit ('sparkit': venv)"
  }
 },
 "nbformat": 4,
 "nbformat_minor": 2,
 "cells": [
  {
   "cell_type": "code",
   "execution_count": 6,
   "metadata": {},
   "outputs": [],
   "source": [
    "from pyspark import SparkContext \n",
    "sc = SparkContext(\"local\", \"first app\")"
   ]
  },
  {
   "cell_type": "code",
   "execution_count": 53,
   "metadata": {},
   "outputs": [],
   "source": [
    "data = [1,2,3,4]"
   ]
  },
  {
   "cell_type": "code",
   "execution_count": 8,
   "metadata": {},
   "outputs": [],
   "source": [
    "# create data in distributed way \n",
    "distData = sc.parallelize(data)"
   ]
  },
  {
   "cell_type": "code",
   "execution_count": 9,
   "metadata": {},
   "outputs": [
    {
     "output_type": "execute_result",
     "data": {
      "text/plain": "[1, 2, 3, 4]"
     },
     "metadata": {},
     "execution_count": 9
    }
   ],
   "source": [
    "distData.collect()"
   ]
  },
  {
   "cell_type": "code",
   "execution_count": 10,
   "metadata": {
    "tags": []
   },
   "outputs": [
    {
     "output_type": "stream",
     "name": "stdout",
     "text": "<class 'pyspark.rdd.RDD'>\n"
    }
   ],
   "source": [
    "print(type(distData))"
   ]
  },
  {
   "cell_type": "code",
   "execution_count": 11,
   "metadata": {},
   "outputs": [],
   "source": [
    "# read data from file"
   ]
  },
  {
   "cell_type": "code",
   "execution_count": 12,
   "metadata": {},
   "outputs": [],
   "source": [
    "file_path = '/home/amogh/Documents/spark certification/Spark-The-Definitive-Guide-master/data//flight-data/csv/2015-summary.csv'"
   ]
  },
  {
   "cell_type": "code",
   "execution_count": 13,
   "metadata": {},
   "outputs": [],
   "source": [
    "data = sc.textFile(file_path)"
   ]
  },
  {
   "cell_type": "code",
   "execution_count": 14,
   "metadata": {},
   "outputs": [],
   "source": [
    "split_data = data.map(lambda x : x.split(','))"
   ]
  },
  {
   "cell_type": "code",
   "execution_count": 17,
   "metadata": {},
   "outputs": [],
   "source": [
    "#split_data.collect()"
   ]
  },
  {
   "cell_type": "code",
   "execution_count": 36,
   "metadata": {},
   "outputs": [],
   "source": [
    "filter_header_country = split_data.filter(lambda s : 'DEST_COUNTRY_NAME' not in s[0])"
   ]
  },
  {
   "cell_type": "code",
   "execution_count": 47,
   "metadata": {},
   "outputs": [],
   "source": [
    "get_start_of_country = filter_header_country.map(lambda s : [s[0].split(' ')[0], s[2]] )"
   ]
  },
  {
   "cell_type": "code",
   "execution_count": 48,
   "metadata": {},
   "outputs": [
    {
     "output_type": "execute_result",
     "data": {
      "text/plain": "[('United', '986'),\n ('Egypt', '15'),\n ('Costa', '588'),\n ('Senegal', '40'),\n ('Moldova', '1'),\n ('Guyana', '64'),\n ('Malta', '1'),\n ('Anguilla', '41'),\n ('Bolivia', '30'),\n ('Algeria', '4'),\n ('Turks', '230'),\n ('Saint', '39'),\n ('Italy', '382'),\n ('Pakistan', '12'),\n ('Iceland', '181'),\n ('Marshall', '42'),\n ('Luxembourg', '155'),\n ('Honduras', '362'),\n ('The', '955'),\n ('El', '561'),\n ('Samoa', '25'),\n ('Switzerland', '294'),\n ('Sint', '325'),\n ('Hong', '332'),\n ('Trinidad', '211'),\n ('Latvia', '19'),\n ('Suriname', '1'),\n ('Mexico', '7140'),\n ('Ecuador', '268'),\n ('Colombia', '873'),\n ('Norway', '121'),\n ('Thailand', '3'),\n ('Venezuela', '290'),\n ('Panama', '510'),\n ('Antigua', '126'),\n ('Morocco', '15'),\n ('Azerbaijan', '21'),\n ('New', '111'),\n ('Liberia', '2'),\n ('Hungary', '2'),\n ('Burkina', '1'),\n ('Sweden', '118'),\n ('Israel', '134'),\n ('Ethiopia', '13'),\n ('Martinique', '44'),\n ('Barbados', '154'),\n ('Djibouti', '1'),\n ('Germany', '1468'),\n ('Ireland', '335'),\n ('Zambia', '1'),\n ('Malaysia', '2'),\n ('Croatia', '2'),\n ('Cyprus', '1'),\n ('Fiji', '24'),\n ('Qatar', '108'),\n ('Kuwait', '32'),\n ('Taiwan', '266'),\n ('Haiti', '226'),\n ('Canada', '8399'),\n ('Federated', '69'),\n ('Jamaica', '666'),\n ('Dominican', '1353'),\n ('Japan', '1548'),\n ('Finland', '26'),\n ('Aruba', '346'),\n ('French', '5'),\n ('India', '61'),\n ('British', '107'),\n ('Brazil', '853'),\n ('Singapore', '3'),\n ('Netherlands', '776'),\n ('Denmark', '153'),\n ('China', '772'),\n ('Cayman', '314'),\n ('Argentina', '180'),\n ('Peru', '279'),\n ('South', '36'),\n ('Spain', '420'),\n ('Bermuda', '183'),\n ('Kiribati', '26'),\n ('Saudi', '83'),\n ('Czech', '13'),\n ('Belgium', '259'),\n ('Curacao', '90'),\n ('Georgia', '2'),\n ('Philippines', '134'),\n ('Grenada', '53'),\n ('Cape', '20'),\n ('Cote', '1'),\n ('Ukraine', '14'),\n ('Russia', '176'),\n ('Guatemala', '397'),\n ('Paraguay', '60'),\n ('Kosovo', '1'),\n ('Tunisia', '3'),\n ('Niger', '2'),\n ('Turkey', '138'),\n ('Romania', '14'),\n ('Papua', '3'),\n ('Iraq', '1'),\n ('Cuba', '466'),\n ('Dominica', '20'),\n ('Portugal', '127'),\n ('Bahrain', '19'),\n ('Indonesia', '1'),\n ('Belize', '188'),\n ('Nicaragua', '179'),\n ('Austria', '62'),\n ('Jordan', '44'),\n ('Palau', '30'),\n ('Angola', '15'),\n ('Ghana', '18'),\n ('Guadeloupe', '56'),\n ('France', '935'),\n ('Poland', '32'),\n ('Nigeria', '59'),\n ('Greenland', '2'),\n ('Chile', '174'),\n ('Australia', '329'),\n ('Cook', '13'),\n ('Bulgaria', '3'),\n ('Uruguay', '43'),\n ('\"Bonaire', ' and Saba\"'),\n ('Greece', '30')]"
     },
     "metadata": {},
     "execution_count": 48
    }
   ],
   "source": [
    "get_start_of_country.reduceByKey(lambda a ,b :max(a,b)).collect()"
   ]
  },
  {
   "cell_type": "code",
   "execution_count": 49,
   "metadata": {},
   "outputs": [],
   "source": [
    "# config properties"
   ]
  },
  {
   "cell_type": "code",
   "execution_count": 50,
   "metadata": {},
   "outputs": [
    {
     "output_type": "execute_result",
     "data": {
      "text/plain": "[('spark.master', 'local'),\n ('spark.driver.host', '192.168.0.101'),\n ('spark.app.id', 'local-1599318966722'),\n ('spark.app.name', 'first app'),\n ('spark.rdd.compress', 'True'),\n ('spark.serializer.objectStreamReset', '100'),\n ('spark.driver.port', '43281'),\n ('spark.executor.id', 'driver'),\n ('spark.submit.deployMode', 'client'),\n ('spark.ui.showConsoleProgress', 'true')]"
     },
     "metadata": {},
     "execution_count": 50
    }
   ],
   "source": [
    "sc.getConf().getAll()"
   ]
  },
  {
   "cell_type": "code",
   "execution_count": 55,
   "metadata": {},
   "outputs": [
    {
     "output_type": "execute_result",
     "data": {
      "text/plain": "ParallelCollectionRDD[31] at parallelize at PythonRDD.scala:195"
     },
     "metadata": {},
     "execution_count": 55
    }
   ],
   "source": [
    "# partition = 3\n",
    "sc.parallelize(data,3)"
   ]
  },
  {
   "cell_type": "code",
   "execution_count": null,
   "metadata": {},
   "outputs": [],
   "source": []
  }
 ]
}