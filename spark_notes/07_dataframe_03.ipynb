{
 "metadata": {
  "language_info": {
   "codemirror_mode": {
    "name": "ipython",
    "version": 3
   },
   "file_extension": ".py",
   "mimetype": "text/x-python",
   "name": "python",
   "nbconvert_exporter": "python",
   "pygments_lexer": "ipython3",
   "version": "3.6.9-final"
  },
  "orig_nbformat": 2,
  "kernelspec": {
   "name": "python_defaultSpec_1599717179713",
   "display_name": "Python 3.6.9 64-bit ('sparkit': venv)"
  }
 },
 "nbformat": 4,
 "nbformat_minor": 2,
 "cells": [
  {
   "cell_type": "code",
   "execution_count": 43,
   "metadata": {},
   "outputs": [],
   "source": [
    "from pyspark.sql import SparkSession\n",
    "from pyspark.sql.functions import col, when,spark_partition_id,count\n",
    "from pyspark.sql.types import FloatType"
   ]
  },
  {
   "cell_type": "code",
   "execution_count": 3,
   "metadata": {},
   "outputs": [],
   "source": [
    "spark = SparkSession.builder.appName('dataframe').config('spark.sql.sources.bucketing.enabled',True).getOrCreate()"
   ]
  },
  {
   "cell_type": "code",
   "execution_count": 4,
   "metadata": {},
   "outputs": [],
   "source": [
    "# action such as \n",
    "# Take\n",
    "# Collect \n",
    "# Show"
   ]
  },
  {
   "cell_type": "code",
   "execution_count": 5,
   "metadata": {},
   "outputs": [],
   "source": [
    "datapath = '/home/amogh/Documents/spark_certification/Spark-The-Definitive-Guide-master/data/'"
   ]
  },
  {
   "cell_type": "code",
   "execution_count": 6,
   "metadata": {},
   "outputs": [],
   "source": [
    "data = spark.read.parquet(datapath +'clustering/part-r-00000-8891f92d-5542-4aec-a830-0d4ff6f5f871.gz.parquet' )"
   ]
  },
  {
   "cell_type": "code",
   "execution_count": 7,
   "metadata": {},
   "outputs": [
    {
     "output_type": "execute_result",
     "data": {
      "text/plain": "[Row(features=DenseVector([3.0, 10.1, 3.0]))]"
     },
     "metadata": {},
     "execution_count": 7
    }
   ],
   "source": [
    "data.take(2)"
   ]
  },
  {
   "cell_type": "code",
   "execution_count": 8,
   "metadata": {
    "tags": []
   },
   "outputs": [
    {
     "output_type": "stream",
     "name": "stdout",
     "text": "root\n |-- features: vector (nullable = true)\n\n"
    }
   ],
   "source": [
    "data.printSchema()"
   ]
  },
  {
   "cell_type": "code",
   "execution_count": 9,
   "metadata": {},
   "outputs": [
    {
     "output_type": "execute_result",
     "data": {
      "text/plain": "' \\ncollect action takes the output of tranformation \\n'"
     },
     "metadata": {},
     "execution_count": 9
    }
   ],
   "source": [
    "\"\"\" \n",
    "collect action takes the output of tranformation \n",
    "\"\"\""
   ]
  },
  {
   "cell_type": "code",
   "execution_count": 12,
   "metadata": {},
   "outputs": [
    {
     "output_type": "execute_result",
     "data": {
      "text/plain": "[Row(features=DenseVector([3.0, 10.1, 3.0]))]"
     },
     "metadata": {},
     "execution_count": 12
    }
   ],
   "source": [
    "data.limit(2).collect()"
   ]
  },
  {
   "cell_type": "code",
   "execution_count": 13,
   "metadata": {},
   "outputs": [],
   "source": [
    "# same does the show\n",
    "\n"
   ]
  },
  {
   "cell_type": "code",
   "execution_count": 16,
   "metadata": {},
   "outputs": [],
   "source": [
    "df = spark.read.option('header',True).csv(datapath +'retail-data/all/online-retail-dataset.csv' ).sample(fraction=0.1)"
   ]
  },
  {
   "cell_type": "code",
   "execution_count": 17,
   "metadata": {
    "tags": []
   },
   "outputs": [
    {
     "output_type": "stream",
     "name": "stdout",
     "text": "root\n |-- InvoiceNo: string (nullable = true)\n |-- StockCode: string (nullable = true)\n |-- Description: string (nullable = true)\n |-- Quantity: string (nullable = true)\n |-- InvoiceDate: string (nullable = true)\n |-- UnitPrice: string (nullable = true)\n |-- CustomerID: string (nullable = true)\n |-- Country: string (nullable = true)\n\n"
    }
   ],
   "source": [
    "df.printSchema()"
   ]
  },
  {
   "cell_type": "code",
   "execution_count": 18,
   "metadata": {},
   "outputs": [],
   "source": [
    "# columns, rows and adding and renaming columns"
   ]
  },
  {
   "cell_type": "code",
   "execution_count": 21,
   "metadata": {},
   "outputs": [
    {
     "output_type": "execute_result",
     "data": {
      "text/plain": "[Row(Description='RED COAT RACK PARIS FASHION')]"
     },
     "metadata": {},
     "execution_count": 21
    }
   ],
   "source": [
    "df.select(col('Description')).take(1)"
   ]
  },
  {
   "cell_type": "code",
   "execution_count": 23,
   "metadata": {},
   "outputs": [
    {
     "output_type": "execute_result",
     "data": {
      "text/plain": "[Row(InvoiceNo='536368', StockCode='22913', Description='RED COAT RACK PARIS FASHION', Quantity='3', InvoiceDate='12/1/2010 8:34', UnitPrice='4.95', CustomerID='13047', Country='United Kingdom', red_coat=True),\n Row(InvoiceNo='536373', StockCode='20679', Description='EDWARDIAN PARASOL RED', Quantity='6', InvoiceDate='12/1/2010 9:02', UnitPrice='4.95', CustomerID='17850', Country='United Kingdom', red_coat=False),\n Row(InvoiceNo='536373', StockCode='37370', Description='RETRO COFFEE MUGS ASSORTED', Quantity='6', InvoiceDate='12/1/2010 9:02', UnitPrice='1.06', CustomerID='17850', Country='United Kingdom', red_coat=False)]"
     },
     "metadata": {},
     "execution_count": 23
    }
   ],
   "source": [
    "df.withColumn('red_coat', when(col('Description') == 'RED COAT RACK PARIS FASHION',True).otherwise(False)).take(3)"
   ]
  },
  {
   "cell_type": "code",
   "execution_count": 24,
   "metadata": {},
   "outputs": [],
   "source": [
    "# Transformation"
   ]
  },
  {
   "cell_type": "code",
   "execution_count": 25,
   "metadata": {},
   "outputs": [
    {
     "output_type": "execute_result",
     "data": {
      "text/plain": "'\\n\\n    Selecting and filtering\\n    Casting into datatypes\\n    Repartitioning and Coalescing\\n    Aggregation\\n\\n\\n'"
     },
     "metadata": {},
     "execution_count": 25
    }
   ],
   "source": [
    "\"\"\"\n",
    "\n",
    "    Selecting and filtering\n",
    "    Casting into datatypes\n",
    "    Repartitioning and Coalescing\n",
    "    Aggregation\n",
    "\n",
    "\n",
    "\"\"\""
   ]
  },
  {
   "cell_type": "code",
   "execution_count": 33,
   "metadata": {
    "tags": []
   },
   "outputs": [
    {
     "output_type": "execute_result",
     "data": {
      "text/plain": "[Row(InvoiceNo='536368', Quantity='3')]"
     },
     "metadata": {},
     "execution_count": 33
    }
   ],
   "source": [
    "df.select('InvoiceNo','Quantity').take(1)"
   ]
  },
  {
   "cell_type": "code",
   "execution_count": 36,
   "metadata": {},
   "outputs": [
    {
     "output_type": "execute_result",
     "data": {
      "text/plain": "[Row(InvoiceNo='536368', Quantity=3.0)]"
     },
     "metadata": {},
     "execution_count": 36
    }
   ],
   "source": [
    "df.select('InvoiceNo',col('Quantity').cast(FloatType())).take(1)\n"
   ]
  },
  {
   "cell_type": "code",
   "execution_count": 37,
   "metadata": {},
   "outputs": [
    {
     "output_type": "execute_result",
     "data": {
      "text/plain": "DataFrame[InvoiceNo: string, StockCode: string, Description: string, Quantity: string, InvoiceDate: string, UnitPrice: string, CustomerID: string, Country: string]"
     },
     "metadata": {},
     "execution_count": 37
    }
   ],
   "source": [
    "df.select('*').limit(3)"
   ]
  },
  {
   "cell_type": "code",
   "execution_count": 38,
   "metadata": {},
   "outputs": [],
   "source": [
    "df_repartition = df.repartition(col('Quantity'))"
   ]
  },
  {
   "cell_type": "code",
   "execution_count": 40,
   "metadata": {
    "tags": []
   },
   "outputs": [
    {
     "output_type": "stream",
     "name": "stdout",
     "text": "+--------+---+\n|Quantity|pid|\n+--------+---+\n|      -4|  0|\n|      -4|  0|\n|      -4|  0|\n|      -4|  0|\n|      -4|  0|\n|      -4|  0|\n|      -4|  0|\n|      -4|  0|\n|      -4|  0|\n|      -4|  0|\n|      -4|  0|\n|      -4|  0|\n|      -4|  0|\n|      -4|  0|\n|      -4|  0|\n|      -4|  0|\n|      -4|  0|\n|      -4|  0|\n|      -4|  0|\n|      -4|  0|\n+--------+---+\nonly showing top 20 rows\n\n"
    }
   ],
   "source": [
    "df_repartition.select('Quantity',spark_partition_id().alias(\"pid\")).show()"
   ]
  },
  {
   "cell_type": "code",
   "execution_count": 41,
   "metadata": {},
   "outputs": [],
   "source": [
    "# group by"
   ]
  },
  {
   "cell_type": "code",
   "execution_count": 44,
   "metadata": {},
   "outputs": [
    {
     "output_type": "execute_result",
     "data": {
      "text/plain": "[Row(CustomerID=None, count(InvoiceNo)=13738),\n Row(CustomerID='12347', count(InvoiceNo)=24),\n Row(CustomerID='12348', count(InvoiceNo)=4),\n Row(CustomerID='12349', count(InvoiceNo)=10),\n Row(CustomerID='12350', count(InvoiceNo)=1)]"
     },
     "metadata": {},
     "execution_count": 44
    }
   ],
   "source": [
    "df.groupBy('CustomerID').agg(count('InvoiceNo')).sort('CustomerID').take(5)"
   ]
  },
  {
   "cell_type": "code",
   "execution_count": null,
   "metadata": {},
   "outputs": [],
   "source": []
  }
 ]
}