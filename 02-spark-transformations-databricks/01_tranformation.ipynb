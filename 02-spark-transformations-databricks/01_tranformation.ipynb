{
 "metadata": {
  "language_info": {
   "codemirror_mode": {
    "name": "ipython",
    "version": 3
   },
   "file_extension": ".py",
   "mimetype": "text/x-python",
   "name": "python",
   "nbconvert_exporter": "python",
   "pygments_lexer": "ipython3",
   "version": "3.6.9-final"
  },
  "orig_nbformat": 2,
  "kernelspec": {
   "name": "python_defaultSpec_1599721719765",
   "display_name": "Python 3.6.9 64-bit ('sparkit': venv)"
  }
 },
 "nbformat": 4,
 "nbformat_minor": 2,
 "cells": [
  {
   "cell_type": "code",
   "execution_count": 5,
   "metadata": {},
   "outputs": [],
   "source": [
    "from pyspark.sql import SparkSession\n",
    "from pyspark.sql.functions import col, max, min"
   ]
  },
  {
   "cell_type": "code",
   "execution_count": 2,
   "metadata": {},
   "outputs": [],
   "source": [
    "spark = SparkSession.builder.appName('transform').config('spark.sql.sources.bucketing.enabled',True).getOrCreate()"
   ]
  },
  {
   "cell_type": "code",
   "execution_count": 3,
   "metadata": {},
   "outputs": [],
   "source": [
    "# Normalization \n",
    "# Normalization restrunction of data in normal data range ( 0-1)"
   ]
  },
  {
   "cell_type": "code",
   "execution_count": 14,
   "metadata": {},
   "outputs": [],
   "source": [
    "integer = spark.range(100,1000).toDF('id')"
   ]
  },
  {
   "cell_type": "code",
   "execution_count": 27,
   "metadata": {},
   "outputs": [],
   "source": [
    "colmin = integer.select(min('id')).first()[0]\n",
    "colm = integer.select(max('id')).first()[0]"
   ]
  },
  {
   "cell_type": "code",
   "execution_count": 28,
   "metadata": {
    "tags": []
   },
   "outputs": [],
   "source": [
    "normalizedata = integer.withColumn(\"normalizedValue\", ( col(\"id\") - colmin )/ (colmax - colmin ) )"
   ]
  },
  {
   "cell_type": "code",
   "execution_count": 29,
   "metadata": {},
   "outputs": [],
   "source": [
    "# Imputing missing values"
   ]
  },
  {
   "cell_type": "code",
   "execution_count": 30,
   "metadata": {},
   "outputs": [],
   "source": [
    "# Null values dropiing these records\n",
    "# Adding  a placeholder \n",
    "# basic imputing :- allows to use best guess by mean \n",
    "# advanced imputing  :- oversampling or clustering"
   ]
  },
  {
   "cell_type": "code",
   "execution_count": 33,
   "metadata": {},
   "outputs": [],
   "source": [
    "df = spark.createDataFrame([\n",
    "\n",
    "      (11, 66, 5),\n",
    "  (12, 68, None),\n",
    "  (1, None, 6),\n",
    "  (2, 72, 7)], \n",
    "  [\"hour\", \"temperature\", \"wind\"]\n",
    "\n",
    ")"
   ]
  },
  {
   "cell_type": "code",
   "execution_count": 35,
   "metadata": {
    "tags": []
   },
   "outputs": [
    {
     "output_type": "stream",
     "name": "stdout",
     "text": "+----+-----------+----+\n|hour|temperature|wind|\n+----+-----------+----+\n|  11|         66|   5|\n|   2|         72|   7|\n+----+-----------+----+\n\n"
    }
   ],
   "source": [
    "df.dropna().show()"
   ]
  },
  {
   "cell_type": "code",
   "execution_count": 36,
   "metadata": {},
   "outputs": [],
   "source": [
    "# impute values with mean"
   ]
  },
  {
   "cell_type": "code",
   "execution_count": 37,
   "metadata": {},
   "outputs": [
    {
     "output_type": "execute_result",
     "data": {
      "text/plain": "DataFrame[hour: bigint, temperature: bigint, wind: bigint]"
     },
     "metadata": {},
     "execution_count": 37
    }
   ],
   "source": [
    "df.fillna({\"temperature\": 68, \"wind\": 6})"
   ]
  },
  {
   "cell_type": "code",
   "execution_count": 38,
   "metadata": {},
   "outputs": [],
   "source": [
    "# deduplicate data"
   ]
  },
  {
   "cell_type": "code",
   "execution_count": 39,
   "metadata": {},
   "outputs": [],
   "source": [
    "duplicateDF = spark.createDataFrame([\n",
    "  (15342, \"Conor\", \"red\"),\n",
    "  (15342, \"conor\", \"red\"),\n",
    "  (12512, \"Dorothy\", \"blue\"),\n",
    "  (5234, \"Doug\", \"aqua\")], \n",
    "  [\"id\", \"name\", \"favorite_color\"]\n",
    ")\n"
   ]
  },
  {
   "cell_type": "code",
   "execution_count": 41,
   "metadata": {
    "tags": []
   },
   "outputs": [
    {
     "output_type": "stream",
     "name": "stdout",
     "text": "+-----+-------+--------------+\n|   id|   name|favorite_color|\n+-----+-------+--------------+\n|15342|  Conor|           red|\n| 5234|   Doug|          aqua|\n|12512|Dorothy|          blue|\n+-----+-------+--------------+\n\n"
    }
   ],
   "source": [
    "duplicateDF.dropDuplicates([\"favorite_color\",\"id\"]).show()"
   ]
  },
  {
   "cell_type": "code",
   "execution_count": null,
   "metadata": {},
   "outputs": [],
   "source": []
  }
 ]
}