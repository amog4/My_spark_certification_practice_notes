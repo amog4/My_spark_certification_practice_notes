{
 "metadata": {
  "language_info": {
   "codemirror_mode": {
    "name": "ipython",
    "version": 3
   },
   "file_extension": ".py",
   "mimetype": "text/x-python",
   "name": "python",
   "nbconvert_exporter": "python",
   "pygments_lexer": "ipython3",
   "version": "3.6.9-final"
  },
  "orig_nbformat": 2,
  "kernelspec": {
   "name": "python_defaultSpec_1599889491158",
   "display_name": "Python 3.6.9 64-bit ('sparkit': venv)"
  }
 },
 "nbformat": 4,
 "nbformat_minor": 2,
 "cells": [
  {
   "cell_type": "code",
   "execution_count": 1,
   "metadata": {},
   "outputs": [],
   "source": [
    "from pyspark.sql import SparkSession\n"
   ]
  },
  {
   "cell_type": "code",
   "execution_count": 3,
   "metadata": {},
   "outputs": [],
   "source": [
    "spark = SparkSession.builder.appName('capstone').getOrCreate()"
   ]
  },
  {
   "cell_type": "code",
   "execution_count": 4,
   "metadata": {},
   "outputs": [],
   "source": [
    "# I dont have the dataset "
   ]
  },
  {
   "cell_type": "code",
   "execution_count": 5,
   "metadata": {},
   "outputs": [],
   "source": [
    "from pyspark.sql.types import StructField, StructType, ArrayType, StringType, IntegerType, LongType\n",
    "from pyspark.sql.functions import col"
   ]
  },
  {
   "cell_type": "code",
   "execution_count": 8,
   "metadata": {},
   "outputs": [],
   "source": [
    "fullTweetSchema = StructType([\n",
    "  StructField(\"id\", LongType(), True),\n",
    "  StructField(\"user\", StructType([\n",
    "    StructField(\"id\", LongType(), True),\n",
    "    StructField(\"screen_name\", StringType(), True),\n",
    "    StructField(\"location\", StringType(), True),\n",
    "    StructField(\"friends_count\", IntegerType(), True),\n",
    "    StructField(\"followers_count\", IntegerType(), True),\n",
    "    StructField(\"description\", StringType(), True)\n",
    "  ]), True),\n",
    "  StructField(\"entities\", StructType([\n",
    "    StructField(\"hashtags\", ArrayType(\n",
    "      StructType([\n",
    "        StructField(\"text\", StringType(), True)\n",
    "      ]),\n",
    "    ), True),\n",
    "    StructField(\"urls\", ArrayType(\n",
    "      StructType([\n",
    "        StructField(\"url\", StringType(), True),\n",
    "        StructField(\"expanded_url\", StringType(), True),\n",
    "        StructField(\"display_url\", StringType(), True)\n",
    "      ]),\n",
    "    ), True)\n",
    "  ]), True),\n",
    "  StructField(\"lang\", StringType(), True),\n",
    "  StructField(\"text\", StringType(), True),\n",
    "  StructField(\"created_at\", StringType(), True)\n",
    "])"
   ]
  },
  {
   "cell_type": "code",
   "execution_count": null,
   "metadata": {},
   "outputs": [],
   "source": []
  }
 ]
}